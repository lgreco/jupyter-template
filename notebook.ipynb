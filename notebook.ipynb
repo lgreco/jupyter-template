{
 "cells": [
  {
   "cell_type": "markdown",
   "id": "1be54fff",
   "metadata": {},
   "source": [
    "# Notebook template"
   ]
  },
  {
   "cell_type": "code",
   "execution_count": 1,
   "id": "c9d30e3d",
   "metadata": {},
   "outputs": [
    {
     "name": "stdout",
     "output_type": "stream",
     "text": [
      "Hello world\n"
     ]
    }
   ],
   "source": [
    "# python code block\n",
    "message = f\"Hello world\"\n",
    "print(message)"
   ]
  }
 ],
 "metadata": {
  "kernelspec": {
   "display_name": "Python 3",
   "language": "python",
   "name": "python3"
  },
  "language_info": {
   "codemirror_mode": {
    "name": "ipython",
    "version": 3
   },
   "file_extension": ".py",
   "mimetype": "text/x-python",
   "name": "python",
   "nbconvert_exporter": "python",
   "pygments_lexer": "ipython3",
   "version": "3.11.2"
  }
 },
 "nbformat": 4,
 "nbformat_minor": 5
}
